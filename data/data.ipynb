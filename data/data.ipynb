{
 "cells": [
  {
   "cell_type": "code",
   "execution_count": 3,
   "id": "e5f4fcee-4ce4-4dd2-9156-8d3d1884254c",
   "metadata": {},
   "outputs": [
    {
     "name": "stdout",
     "output_type": "stream",
     "text": [
      "date being processed:\n",
      "date processing completed\n",
      "processing recent cases ... complete\n"
     ]
    }
   ],
   "source": [
    "import pandas as pd\n",
    "import time\n",
    "import requests\n",
    "import json\n",
    "import math\n",
    "\n",
    "data = pd.read_json(\"https://data.nsw.gov.au/data/api/3/action/datastore_search?resource_id=2776dbb8-f807-4fb2-b1ed-184a6fc2c8aa&limit=10000\")\n",
    "data = pd.json_normalize(data.result.records)\n",
    "data = data.query(\"likely_source_of_infection != 'Overseas'\")\n",
    "data = data[[\"notification_date\", \"lga_code19\"]]\n",
    "data.columns = [\"date\", \"code\"]\n",
    "data.date = pd.to_datetime(data.date)\n",
    "data[\"cases\"] = [1] * len(data)\n",
    "\n",
    "data = data.groupby([\"date\", \"code\"]).sum().reset_index()\n",
    "data.code = data.code.astype(\"int\")\n",
    "data.dropna(inplace=True)\n",
    "data.sort_values(\"date\", inplace=True)\n",
    "\n",
    "data.describe(datetime_is_numeric=True)\n",
    "\n",
    "act_data = pd.read_csv(\"./actCases.csv\")\n",
    "act_data.date = pd.to_datetime(act_data.date, format=\"%d/%m/%Y\")\n",
    "act_data.sort_values(\"date\", inplace=True)\n",
    "act_data[\"code\"] = 89399\n",
    "\n",
    "act_data.describe(datetime_is_numeric=True)\n",
    "\n",
    "data = pd.concat([data, act_data], ignore_index=True)\n",
    "date_start = data.date.min()\n",
    "date_end = data.date.max()\n",
    "date_length = (date_end - date_start).days\n",
    "\n",
    "data_chart = pd.DataFrame(columns=[\"date\", \"code\", \"cases\"])\n",
    "\n",
    "count = 0\n",
    "print(\"date being processed:\")\n",
    "while date_start + pd.Timedelta(count, unit=\"d\") <= date_end:\n",
    "    date_current = date_start + pd.Timedelta(count, unit=\"d\")    \n",
    "    print(date_current, end=\"\\r\")\n",
    "    for code in data.code.unique():\n",
    "        data_temp = data[(data.date == date_current) & (data.code == code)]\n",
    "        if len(data_temp) == 0:\n",
    "            data_chart.loc[len(data_chart)] = [date_current, code, 0]\n",
    "        else:\n",
    "            data_chart.loc[len(data_chart)] = [date_current, code, data_temp.iat[0, 2]]\n",
    "    count = count + 1\n",
    "print(\"date processing completed\")\n",
    "\n",
    "timer = time.time()\n",
    "interval = 1\n",
    "print(\"processing recent cases ...\", end=\"\\r\")\n",
    "for i, indice in enumerate(data_chart.index):\n",
    "    data_temp = data_chart[(data_chart.code == data_chart.at[indice, \"code\"]) & (data_chart.date > data_chart.at[indice, \"date\"] - pd.Timedelta(\"14 days\")) & (data_chart.date <= data_chart.at[indice, \"date\"])]\n",
    "    data_chart.at[indice, \"recent\"] = data_temp.cases.sum()\n",
    "    if time.time() - interval > timer:\n",
    "        interval = interval + 1\n",
    "        print(f\"processing recent cases ... {(i + 1) / len(data_chart):.1%}\", end=\"\\r\")\n",
    "print(\"processing recent cases ... complete\")\n",
    "\n",
    "data_chart.to_csv(\"./cases.csv\", index=False)"
   ]
  },
  {
   "cell_type": "code",
   "execution_count": 8,
   "id": "6f31adb2-9924-4671-9cf1-2b4edc9fa945",
   "metadata": {},
   "outputs": [
    {
     "name": "stdout",
     "output_type": "stream",
     "text": [
      "processing driving times ... complete\n"
     ]
    },
    {
     "data": {
      "text/plain": [
       "code          int64\n",
       "name         object\n",
       "pop          object\n",
       "cases        object\n",
       "area        float64\n",
       "lng         float64\n",
       "lat         float64\n",
       "density     float64\n",
       "location     object\n",
       "duration    float64\n",
       "dtype: object"
      ]
     },
     "execution_count": 8,
     "metadata": {},
     "output_type": "execute_result"
    }
   ],
   "source": [
    "data_pop = pd.read_csv(\"./lga_pop.csv\")\n",
    "data_pop = data_pop.query(\"POP_COMP == 10 & TIME == 2020\")\n",
    "data_pop = data_pop[[\"LGA_2020\", \"Region\", \"Value\"]]\n",
    "data_pop.columns = [\"code\", \"name\", \"pop\"]\n",
    "data_pop = data_pop[(data_pop[\"code\"].apply(lambda x: len(str(x)) == 5)) & (data_pop[\"code\"].apply(lambda x: (str(x)[0] == \"1\") or (str(x)[0]) == \"8\" ))]\n",
    "data_pop[\"name\"] = data_pop[\"name\"].apply(lambda x: x[:x.find(\" (\")] if x.find(\" (\") > -1 else \"ACT\" if x == \"Unincorporated ACT\" else x)\n",
    "\n",
    "codes = data_pop.code.unique()\n",
    "names = data_pop.name.unique()\n",
    "\n",
    "df = pd.DataFrame(columns=[\"code\", \"name\", \"pop\", \"cases\"])\n",
    "df[\"code\"] = codes\n",
    "df[\"name\"] = names\n",
    "\n",
    "for i in df.index:\n",
    "    try:\n",
    "        pop = data_pop[data_pop.code == df.at[i, \"code\"]].iat[0, 2]\n",
    "    except:\n",
    "        pop = 0\n",
    "    df.at[i, \"pop\"] = pop\n",
    "    df.at[i, \"cases\"] = data_chart[data_chart[\"code\"] == df.at[i, \"code\"]].cases.sum()\n",
    "\n",
    "data_distance = pd.read_csv(\"./dataDistance.csv\")\n",
    "data_distance[\"lng\"] = data_distance[\"location\"].apply(lambda x: float(x.split(\",\")[0]))\n",
    "data_distance[\"lat\"] = data_distance[\"location\"].apply(lambda x: float(x.split(\",\")[1]))\n",
    "\n",
    "for i in df.index:\n",
    "    df.at[i, \"area\"] = data_distance[data_distance[\"code\"] == df.at[i, \"code\"]].iat[0, 2]\n",
    "    df.at[i, \"lng\"] = data_distance[data_distance[\"code\"] == df.at[i, \"code\"]].iat[0, 4]\n",
    "    df.at[i, \"lat\"] = data_distance[data_distance[\"code\"] == df.at[i, \"code\"]].iat[0, 5]\n",
    "    df.at[i, \"density\"] = df.at[i, \"pop\"] / df.at[i, \"area\"]\n",
    "    df.at[i, \"location\"] = data_distance[data_distance[\"code\"] == df.at[i, \"code\"]].iat[0, 3]\n",
    "\n",
    "start = time.time()\n",
    "interval = 1\n",
    "print(\"processing driving times ...\", end=\"\\r\")\n",
    "for j, i in enumerate(df.index):\n",
    "    r = requests.get(f\"http://router.project-osrm.org/route/v1/car/151.209900,-33.865143;{df.at[i, 'location']}?overview=false\")\n",
    "    routes = json.loads(r.content)\n",
    "    try:\n",
    "        duration = routes.get(\"routes\")[0][\"duration\"]\n",
    "    except:\n",
    "        duration = float(\"null\")\n",
    "    df.at[i, \"duration\"] = duration\n",
    "    if time.time() - interval > start:\n",
    "        interval = interval + 1\n",
    "        print(f\"processing driving times ... {(j + 1) / len(df):.1%}\", end=\"\\r\")\n",
    "print(\"processing driving times ... complete\")\n",
    "\n",
    "df.to_csv(\"./data_chart.csv\", index=False)\n",
    "df.dtypes"
   ]
  },
  {
   "cell_type": "code",
   "execution_count": 12,
   "id": "56f5e122-6000-47bf-a95f-e0d29cfe4497",
   "metadata": {},
   "outputs": [],
   "source": [
    "df_plot = df.query(\"duration > 0 & pop > 0\")\n",
    "df_plot[\"pop\"] = df_plot[\"pop\"].astype(\"int\")\n",
    "df_plot[\"cases\"] = df_plot[\"cases\"].astype(\"int\")\n",
    "max_pop = df_plot[\"pop\"].max()\n",
    "max_density = df_plot[\"density\"].max()\n",
    "max_dur = df_plot[\"duration\"].apply(math.log).max()\n",
    "df_plot[\"pop_rel\"] = df_plot[\"pop\"] / max_pop\n",
    "df_plot[\"den_rel\"] = df_plot[\"density\"] / max_density\n",
    "df_plot[\"pop_test\"] = df_plot[\"pop_rel\"] * df_plot[\"den_rel\"]\n",
    "df_plot[\"dur_rel\"] = 1 - df_plot[\"duration\"].apply(math.log) / max_dur\n",
    "df_plot[\"combo\"] = df_plot[\"pop_rel\"] * df_plot[\"dur_rel\"]\n",
    "df_plot[\"combo2\"] = df_plot[\"pop_test\"] * df_plot[\"dur_rel\"]\n",
    "\n",
    "# df_plot = df_plot[[\"name\", \"pop\", \"cases\", \"duration\"]]\n",
    "# df_plot.to_csv(\"data_simple.csv\", index=False)\n",
    "\n",
    "# df_plot.plot.scatter(\"pop_rel\", \"cases\", figsize=(12, 8))\n",
    "# df_plot.plot.scatter(\"dur_rel\", \"cases\", figsize=(12, 8))\n",
    "# df_plot.plot.scatter(\"combo\", \"cases\", figsize=(12, 8))\n",
    "# df_plot.plot.scatter(\"combo2\", \"cases\", figsize=(12, 8))"
   ]
  },
  {
   "cell_type": "code",
   "execution_count": 14,
   "id": "e3a29e24-0631-482e-8bdb-88709f0d612c",
   "metadata": {},
   "outputs": [
    {
     "ename": "ModuleNotFoundError",
     "evalue": "No module named 'sklearn'",
     "output_type": "error",
     "traceback": [
      "\u001b[0;31m---------------------------------------------------------------------------\u001b[0m",
      "\u001b[0;31mModuleNotFoundError\u001b[0m                       Traceback (most recent call last)",
      "\u001b[0;32m/tmp/ipykernel_8972/288164390.py\u001b[0m in \u001b[0;36m<module>\u001b[0;34m\u001b[0m\n\u001b[1;32m      1\u001b[0m \u001b[0;32mimport\u001b[0m \u001b[0mnumpy\u001b[0m \u001b[0;32mas\u001b[0m \u001b[0mnp\u001b[0m\u001b[0;34m\u001b[0m\u001b[0;34m\u001b[0m\u001b[0m\n\u001b[0;32m----> 2\u001b[0;31m \u001b[0;32mfrom\u001b[0m \u001b[0msklearn\u001b[0m\u001b[0;34m.\u001b[0m\u001b[0mlinear_model\u001b[0m \u001b[0;32mimport\u001b[0m \u001b[0mLinearRegression\u001b[0m\u001b[0;34m\u001b[0m\u001b[0;34m\u001b[0m\u001b[0m\n\u001b[0m\u001b[1;32m      3\u001b[0m \u001b[0mdf_plot\u001b[0m\u001b[0;34m\u001b[0m\u001b[0;34m\u001b[0m\u001b[0m\n",
      "\u001b[0;31mModuleNotFoundError\u001b[0m: No module named 'sklearn'"
     ]
    }
   ],
   "source": [
    "import numpy as np\n",
    "from sklearn.linear_model import LinearRegression\n",
    "df_plot"
   ]
  },
  {
   "cell_type": "code",
   "execution_count": null,
   "id": "47a0e568-1103-4515-98d9-8ebc15bd9cdf",
   "metadata": {},
   "outputs": [],
   "source": []
  }
 ],
 "metadata": {
  "kernelspec": {
   "display_name": "Python 3 (ipykernel)",
   "language": "python",
   "name": "python3"
  },
  "language_info": {
   "codemirror_mode": {
    "name": "ipython",
    "version": 3
   },
   "file_extension": ".py",
   "mimetype": "text/x-python",
   "name": "python",
   "nbconvert_exporter": "python",
   "pygments_lexer": "ipython3",
   "version": "3.9.5"
  }
 },
 "nbformat": 4,
 "nbformat_minor": 5
}
