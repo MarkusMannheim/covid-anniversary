{
 "cells": [
  {
   "cell_type": "code",
   "execution_count": 2,
   "id": "e5f4fcee-4ce4-4dd2-9156-8d3d1884254c",
   "metadata": {},
   "outputs": [
    {
     "name": "stdout",
     "output_type": "stream",
     "text": [
      "date being processed:\n",
      "date processing completed\n",
      "processing recent cases ... complete\n"
     ]
    }
   ],
   "source": [
    "import pandas as pd\n",
    "import time\n",
    "\n",
    "data = pd.read_json(\"https://data.nsw.gov.au/data/api/3/action/datastore_search?resource_id=2776dbb8-f807-4fb2-b1ed-184a6fc2c8aa&limit=6000\")\n",
    "data = pd.json_normalize(data.result.records)\n",
    "data = data[[\"notification_date\", \"lga_code19\"]]\n",
    "data.columns = [\"date\", \"code\"]\n",
    "data.date = pd.to_datetime(data.date)\n",
    "data[\"cases\"] = [1] * len(data)\n",
    "data.describe(datetime_is_numeric=True)\n",
    "data = data.groupby([\"date\", \"code\"]).sum().reset_index()\n",
    "data.code = data.code.astype(\"int\")\n",
    "data.dropna(inplace=True)\n",
    "data.sort_values(\"date\", inplace=True)\n",
    "\n",
    "act_data = pd.read_csv(\"./actCases.csv\")\n",
    "act_data.date = pd.to_datetime(act_data.date, format=\"%d/%m/%Y\")\n",
    "act_data[\"code\"] = 89399\n",
    "\n",
    "data = pd.concat([data, act_data], ignore_index=True)\n",
    "date_start = data.date.min()\n",
    "date_end = data.date.max()\n",
    "date_length = (date_end - date_start).days\n",
    "\n",
    "data_chart = pd.DataFrame(columns=[\"date\", \"code\", \"cases\"])\n",
    "\n",
    "count = 0\n",
    "print(\"date being processed:\")\n",
    "while date_start + pd.Timedelta(count, unit=\"d\") <= date_end:\n",
    "    date_current = date_start + pd.Timedelta(count, unit=\"d\")    \n",
    "    print(date_current, end=\"\\r\")\n",
    "    for code in data.code.unique():\n",
    "        data_temp = data[(data.date == date_current) & (data.code == code)]\n",
    "        if len(data_temp) == 0:\n",
    "            data_chart.loc[len(data_chart)] = [date_current, code, 0]\n",
    "        else:\n",
    "            data_chart.loc[len(data_chart)] = [date_current, code, data_temp.iat[0, 2]]\n",
    "    count = count + 1\n",
    "print(\"date processing completed\")\n",
    "\n",
    "timer = time.time()\n",
    "interval = 1\n",
    "print(\"processing recent cases ...\", end=\"\\r\")\n",
    "for i, indice in enumerate(data_chart.index):\n",
    "    data_temp = data_chart[(data_chart.code == data_chart.at[indice, \"code\"]) & (data_chart.date > data_chart.at[indice, \"date\"] - pd.Timedelta(\"14 days\")) & (data_chart.date <= data_chart.at[indice, \"date\"])]\n",
    "    data_chart.at[indice, \"recent\"] = data_temp.cases.sum()\n",
    "    if time.time() - interval > timer:\n",
    "        interval = interval + 1\n",
    "        print(f\"processing recent cases ... {(i + 1) / len(data_chart):.1%}\", end=\"\\r\")\n",
    "print(\"processing recent cases ... complete\")\n",
    "\n",
    "data_chart\n",
    "data_chart.to_csv(\"./cases.csv\", index=False)"
   ]
  },
  {
   "cell_type": "code",
   "execution_count": null,
   "id": "e513bf6c-972c-494a-a66f-14388d5dc19a",
   "metadata": {},
   "outputs": [],
   "source": []
  }
 ],
 "metadata": {
  "kernelspec": {
   "display_name": "Python 3",
   "language": "python",
   "name": "python3"
  },
  "language_info": {
   "codemirror_mode": {
    "name": "ipython",
    "version": 3
   },
   "file_extension": ".py",
   "mimetype": "text/x-python",
   "name": "python",
   "nbconvert_exporter": "python",
   "pygments_lexer": "ipython3",
   "version": "3.9.0"
  }
 },
 "nbformat": 4,
 "nbformat_minor": 5
}
